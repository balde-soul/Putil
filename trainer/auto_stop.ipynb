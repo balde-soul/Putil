{
 "cells": [
  {
   "cell_type": "code",
   "execution_count": null,
   "metadata": {},
   "outputs": [],
   "source": [
    "#coding=utf-8\n",
    "from abc import ABC, abstractmethod\n",
    "import Putil.base.logger as plog\n",
    "from colorama import Fore"
   ]
  },
  {
   "cell_type": "code",
   "execution_count": null,
   "metadata": {},
   "outputs": [],
   "source": [
    "auto_stop_logger = plog.PutilLogConfig('auto_stop').logger()\n",
    "auto_stop_logger.setLevel(plog.DEBUG)\n",
    "AutoStopLogger = auto_stop_logger.getChild('AutoStop')\n",
    "AutoStopLogger.setLevel(plog.DEBUG)"
   ]
  },
  {
   "cell_type": "code",
   "execution_count": null,
   "metadata": {},
   "outputs": [],
   "source": [
    "class auto_stop(ABC):\n",
    "    '''\n",
    "    this class is the virtual class for model training\n",
    "    main function:\n",
    "    \n",
    "    '''\n",
    "    def __init__(self):\n",
    "        self._compare_func = None\n",
    "        self._decision_func = None\n",
    "        self._process_func = None\n",
    "        pass\n",
    "    \n",
    "    def _set_compare_func(self, func):\n",
    "        self._compare_func = func\n",
    "        pass\n",
    "    \n",
    "    def Stop(self, indicator):\n",
    "        # compare\n",
    "        # process\n",
    "        # decision\n",
    "        pass\n",
    "\n",
    "    @abstractmethod\n",
    "    def _compare(self, Indicator):\n",
    "        pass\n",
    "    pass\n",
    "\n",
    "class AutoStop:\n",
    "    pass\n",
    "\n",
    "    "
   ]
  },
  {
   "cell_type": "code",
   "execution_count": null,
   "metadata": {},
   "outputs": [],
   "source": [
    "class AutoStop:\n",
    "    def __init__(self, patience, mode='max'):\n",
    "        self._patience = patience\n",
    "        self._best = None\n",
    "        self._count = 0\n",
    "        if mode == 'min':\n",
    "            self._direction = -1\n",
    "            pass\n",
    "        else:\n",
    "            self._direction = 1\n",
    "            pass\n",
    "        AutoStopLogger.info(Fore.GREEN +'patience: {0}'.format(self._patience) + Fore.RESET)\n",
    "        pass\n",
    "\n",
    "    @property\n",
    "    def Patience(self):\n",
    "        return self._patience\n",
    "\n",
    "    def stop_or_not(self, value):\n",
    "        if self._best is None:\n",
    "            AutoStopLogger.debug('best is None now, and base indicator: {0}'.format(value))\n",
    "            self._best = value * self._direction\n",
    "            pass\n",
    "        else:\n",
    "            if self._best < value * self._direction:\n",
    "                self._count = 0\n",
    "                self._best = value * self._direction\n",
    "                pass\n",
    "            else:\n",
    "                self._count += 1\n",
    "                pass\n",
    "            pass\n",
    "        if self._count >= self._patience:\n",
    "            AutoStopLogger.info('not improve for {0}, auto stop the training'.format(self._patience))\n",
    "            return True\n",
    "        else:\n",
    "            return False\n",
    "        pass\n",
    "    pass"
   ]
  },
  {
   "cell_type": "code",
   "execution_count": null,
   "metadata": {},
   "outputs": [],
   "source": [
    "def main():\n",
    "    patience = 5\n",
    "    auto_stop = AutoStop(patience)\n",
    "    for i in range(0, patience * 2):\n",
    "        assert auto_stop.stop_or_not(i) is False\n",
    "        pass\n",
    "    a = list(range(0, patience * 2))\n",
    "    a.reverse()\n",
    "    for i in a:\n",
    "        assert auto_stop.stop_or_not(i) is False if i > patience else True, print(i)\n",
    "        pass\n",
    "    pass"
   ]
  },
  {
   "cell_type": "code",
   "execution_count": null,
   "metadata": {},
   "outputs": [],
   "source": [
    "# main()"
   ]
  }
 ],
 "metadata": {
  "kernelspec": {
   "display_name": "Python 3",
   "language": "python",
   "name": "python3"
  },
  "language_info": {
   "codemirror_mode": {
    "name": "ipython",
    "version": 3
   },
   "file_extension": ".py",
   "mimetype": "text/x-python",
   "name": "python",
   "nbconvert_exporter": "python",
   "pygments_lexer": "ipython3",
   "version": "3.5.6"
  }
 },
 "nbformat": 4,
 "nbformat_minor": 4
}
