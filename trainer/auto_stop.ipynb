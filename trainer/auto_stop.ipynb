{
 "cells": [
  {
   "cell_type": "code",
   "execution_count": null,
   "metadata": {},
   "outputs": [],
   "source": [
    "#coding=utf-8\n",
    "from abc import ABC, abstractmethod"
   ]
  },
  {
   "cell_type": "code",
   "execution_count": null,
   "metadata": {},
   "outputs": [],
   "source": [
    "class auto_stop(ABC):\n",
    "    '''\n",
    "    this class is the virtual class for model training\n",
    "    main function:\n",
    "    \n",
    "    '''\n",
    "    def __init__(self, indicator_getter, patience, improve=True):\n",
    "        self._indicator_getter = indicator_getter\n",
    "        self._esp\n",
    "        pass\n",
    "\n",
    "    def Stop(self):\n",
    "\n",
    "        pass\n",
    "\n",
    "    @abstractmethod\n",
    "    def _compare(self, Indicator):\n",
    "        pass\n",
    "    pass\n",
    "\n",
    "class AutoStop:\n",
    "    pass\n",
    "\n",
    "    "
   ]
  },
  {
   "cell_type": "code",
   "execution_count": null,
   "metadata": {},
   "outputs": [],
   "source": [
    "class AutoStop:\n",
    "    def __init__(self):\n",
    "        pass\n",
    "    pass"
   ]
  },
  {
   "cell_type": "code",
   "execution_count": null,
   "metadata": {},
   "outputs": [],
   "source": [
    "def main():\n",
    "    pass"
   ]
  },
  {
   "cell_type": "code",
   "execution_count": null,
   "metadata": {},
   "outputs": [],
   "source": [
    "main()"
   ]
  }
 ],
 "metadata": {
  "kernelspec": {
   "display_name": "Python 3",
   "language": "python",
   "name": "python3"
  },
  "language_info": {
   "codemirror_mode": {
    "name": "ipython",
    "version": 3
   },
   "file_extension": ".py",
   "mimetype": "text/x-python",
   "name": "python",
   "nbconvert_exporter": "python",
   "pygments_lexer": "ipython3",
   "version": "3.5.6"
  }
 },
 "nbformat": 4,
 "nbformat_minor": 4
}
