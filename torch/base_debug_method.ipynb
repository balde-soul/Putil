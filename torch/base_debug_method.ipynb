{
 "cells": [
  {
   "cell_type": "code",
   "execution_count": null,
   "metadata": {},
   "outputs": [],
   "source": [
    "# coding=utf-8\n",
    "import Putil.PutilEnvSet as penv\n",
    "import Putil.base.logger as plog\n",
    "import inspect\n",
    "import torch"
   ]
  },
  {
   "cell_type": "code",
   "execution_count": null,
   "metadata": {},
   "outputs": [],
   "source": [
    "import Putil.base.logger as plog\n",
    "plog.PutilLogConfig.config_log_level(stream=plog.DEBUG)\n",
    "plog.PutilLogConfig.config_format(plog.FormatRecommend)\n",
    "plog.PutilLogConfig.config_handler(plog.stream_method)"
   ]
  },
  {
   "cell_type": "code",
   "execution_count": null,
   "metadata": {},
   "outputs": [],
   "source": [
    "Logger = plog.PutilLogConfig('Logger').logger()\n",
    "Logger.setLevel(plog.DEBUG)\n",
    "BaseDebugMethodLogger = Logger.getChild('BaseDebugMethod')\n",
    "BaseDebugMethodLogger.setLevel(plog.DEBUG)"
   ]
  },
  {
   "cell_type": "code",
   "execution_count": null,
   "metadata": {},
   "outputs": [],
   "source": [
    "class BaseDebugMethod:\n",
    "    def __init__(self, input_size=True):\n",
    "        self._include_input_size = input_size\n",
    "        self._input_size_message = None\n",
    "        self._logger = None\n",
    "        pass\n",
    "    \n",
    "    def set_logger(self, logger):\n",
    "        self._logger = logger\n",
    "        pass\n",
    "    \n",
    "    def debug_message(self, message, module, input_data, logger=None):\n",
    "        current_frame = inspect.currentframe()\n",
    "        self._logger = self._logger if logger is None else logger\n",
    "        self._logger.debug('{2} | call in {0}\\n input size: {1} --> {3}'.format(current_frame.f_back.f_lineno, self.__input_size_message(input_data), message, module.named_buffers))\n",
    "        return module(input_data)\n",
    "        pass\n",
    "    \n",
    "    def functional_debug_message(self, message, functional, argv, logger=None):\n",
    "        current_frame = inspect.currentframe()\n",
    "        self._logger = self._logger if logger is None else logger\n",
    "        self._logger.debug('{2} | call in {0}\\n input size: {1} --> {3}'.format(current_frame.f_back.f_lineno, self.__input_size_message(input_data), message, module.named_buffers))\n",
    "        pass\n",
    "    \n",
    "    def __input_size_message(self, input_data):\n",
    "        self._input_size_message = ''\n",
    "        def __collector(_input_data):\n",
    "            if isinstance(_input_data, torch.Tensor):\n",
    "                self._input_size_message = '{0} \\n {1}'.format(self._input_size_message, _input_data.size())\n",
    "                pass\n",
    "            elif hasattr(_input_data, '__iter__'):\n",
    "                if isinstance(_input_data, dict):\n",
    "                    pass\n",
    "                else:\n",
    "                    for _input_data in input_data:\n",
    "                        __collector(_input_data)\n",
    "                        pass\n",
    "                    pass\n",
    "                pass\n",
    "            pass\n",
    "        __collector(input_data)\n",
    "        return self._input_size_message\n",
    "        pass\n",
    "    pass"
   ]
  },
  {
   "cell_type": "code",
   "execution_count": null,
   "metadata": {},
   "outputs": [],
   "source": [
    "def test():\n",
    "    import torch\n",
    "    class A(torch.nn.Module):\n",
    "        def __init__(self):\n",
    "            super(A, self).__init__()\n",
    "            self._conv1 = torch.nn.Conv2d(3, 3, 3, 3, 1)\n",
    "            self._conv2 = torch.nn.Conv2d(3, 3, 3, 3, 1)\n",
    "            pass\n",
    "        \n",
    "        def forward(self, input_data):\n",
    "            self._conv1(input_data[0])\n",
    "            return self._conv2(input_data[1])\n",
    "            pass\n",
    "        pass\n",
    "    a = A()\n",
    "    b = BaseDebugMethod()\n",
    "    import numpy as np\n",
    "    c = torch.from_numpy(np.zeros(shape=[1, 3, 70, 40], dtype=np.float32))\n",
    "    b.debug_message('asdasd', a, [c, c], logger=BaseDebugMethodLogger).size()\n",
    "    \n",
    "    # b.functional_debug_message('adada', torch.cat, ([c, c], dim=1), logger=BaseDebugMethodLogger).size()"
   ]
  },
  {
   "cell_type": "code",
   "execution_count": null,
   "metadata": {},
   "outputs": [],
   "source": [
    "# test()"
   ]
  }
 ],
 "metadata": {
  "kernelspec": {
   "display_name": "Python 3",
   "language": "python",
   "name": "python3"
  },
  "language_info": {
   "codemirror_mode": {
    "name": "ipython",
    "version": 3
   },
   "file_extension": ".py",
   "mimetype": "text/x-python",
   "name": "python",
   "nbconvert_exporter": "python",
   "pygments_lexer": "ipython3",
   "version": "3.5.6"
  }
 },
 "nbformat": 4,
 "nbformat_minor": 4
}
