{
 "cells": [
  {
   "cell_type": "code",
   "execution_count": null,
   "metadata": {},
   "outputs": [],
   "source": [
    "# coding=utf-8\n",
    "from numba import cuda"
   ]
  },
  {
   "cell_type": "code",
   "execution_count": null,
   "metadata": {},
   "outputs": [],
   "source": [
    "class CudaDataPrefetcher():\n",
    "    def __init__(self, data_put_process):\n",
    "        self._data_put_process = data_put_process\n",
    "        self._data_queue = self._data_put_process.DataQueue()\n",
    "        self._stream = cuda.stream()\n",
    "        pass\n",
    "    \n",
    "    def preload(self):\n",
    "        try:\n",
    "            self._next_data = next(self._data_put_process)\n",
    "            pass\n",
    "        except StopIteration:\n",
    "            self._next_input = None\n",
    "            return\n",
    "        pass\n",
    "    \n",
    "    def next(self):\n",
    "        data = self.\n",
    "        pass\n",
    "    \n",
    "    def begin(self, **kwargs):\n",
    "        self._data_put_process.restart(**kwargs)\n",
    "        pass\n",
    "    pass"
   ]
  }
 ],
 "metadata": {
  "kernelspec": {
   "display_name": "Python 3",
   "language": "python",
   "name": "python3"
  },
  "language_info": {
   "codemirror_mode": {
    "name": "ipython",
    "version": 3
   },
   "file_extension": ".py",
   "mimetype": "text/x-python",
   "name": "python",
   "nbconvert_exporter": "python",
   "pygments_lexer": "ipython3",
   "version": "3.5.6"
  }
 },
 "nbformat": 4,
 "nbformat_minor": 4
}
