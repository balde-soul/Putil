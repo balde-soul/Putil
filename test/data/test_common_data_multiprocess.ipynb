{
 "cells": [
  {
   "cell_type": "code",
   "execution_count": null,
   "metadata": {},
   "outputs": [],
   "source": [
    "# coding=utf-8\n",
    "import sys\n",
    "import traceback\n",
    "import numpy as np\n",
    "import Putil.base.logger as plog"
   ]
  },
  {
   "cell_type": "code",
   "execution_count": null,
   "metadata": {},
   "outputs": [],
   "source": [
    "plog.PutilLogConfig.config_log_level(stream=plog.DEBUG)\n",
    "plog.PutilLogConfig.config_handler(plog.stream_method)\n",
    "logger = plog.PutilLogConfig('TesCommonData').logger()\n",
    "logger.setLevel(plog.DEBUG)\n",
    "MainLogger = logger.getChild('Main')\n",
    "MainLogger.setLevel(plog.DEBUG)"
   ]
  },
  {
   "cell_type": "code",
   "execution_count": null,
   "metadata": {},
   "outputs": [],
   "source": [
    "import Putil.data.common_data as pcd\n",
    "import multiprocessing\n",
    "import Putil.test.data.test_common_data_unit as tbase"
   ]
  },
  {
   "cell_type": "code",
   "execution_count": null,
   "metadata": {},
   "outputs": [],
   "source": [
    "if __name__ == '__main__':\n",
    "    manager_common_data = pcd.CommonDataManager()\n",
    "    manager_common_data.start()\n",
    "    data = manager_common_data.TestCommonData()\n",
    "\n",
    "    manager = multiprocessing.Manager()\n",
    "    pool = multiprocessing.Pool()\n",
    "\n",
    "    dpq = pcd.DataPutProcess(data, manager, pool)\n",
    "    pool.close()\n",
    "\n",
    "    dq = dpq.DataQueue()\n",
    "\n",
    "    restart_param = dict()\n",
    "\n",
    "    restart_param['critical_process'] = 'random_fill'\n",
    "    dpq.restart(**restart_param)\n",
    "\n",
    "    # pool.join()\n",
    "    # print(dpq.queue_process_ret.get())"
   ]
  },
  {
   "cell_type": "code",
   "execution_count": null,
   "metadata": {},
   "outputs": [],
   "source": [
    "    count = 0\n",
    "    while dpq.has_next():\n",
    "        data = dq.get()\n",
    "        assert len(data) == 1\n",
    "        for k, v in data[0].items():\n",
    "            assert v.datas().shape[0] == 1\n",
    "            pass\n",
    "        count += 1\n",
    "        pass\n",
    "    assert count == 100"
   ]
  },
  {
   "cell_type": "code",
   "execution_count": null,
   "metadata": {},
   "outputs": [],
   "source": [
    "    restart_param['device_batch'] = [1]\n",
    "    restart_param['critical_process'] = 'random_fill'\n",
    "    dpq.restart(**restart_param)\n",
    "    count = 0\n",
    "    while dpq.has_next():\n",
    "        dq.get()\n",
    "        count += 1\n",
    "        pass\n",
    "    assert count == 100"
   ]
  },
  {
   "cell_type": "code",
   "execution_count": null,
   "metadata": {},
   "outputs": [],
   "source": [
    "    restart_param['device_batch'] = [1]\n",
    "    restart_param['critical_process'] = 'random_fill'\n",
    "    dpq.restart(**restart_param)\n",
    "    count = 0\n",
    "    for get in dpq:\n",
    "        count += 1\n",
    "        pass\n",
    "    assert count == 100"
   ]
  },
  {
   "cell_type": "code",
   "execution_count": null,
   "metadata": {},
   "outputs": [],
   "source": [
    "    restart_param['device_batch'] = [1]\n",
    "    restart_param['critical_process'] = 'allow_low'\n",
    "    dpq.restart(**restart_param)\n",
    "    dpq.pause_queue()\n",
    "    now_size = dpq.DataQueue().qsize()\n",
    "    count = 0\n",
    "    while dpq.paused_and_has_next():\n",
    "        dq.get()\n",
    "        count += 1\n",
    "        pass\n",
    "    assert count == now_size\n",
    "    dpq.continue_queue()\n",
    "    while dpq.has_next():\n",
    "        dq.get()\n",
    "        count += 1\n",
    "        pass\n",
    "    assert count == 100"
   ]
  },
  {
   "cell_type": "code",
   "execution_count": null,
   "metadata": {},
   "outputs": [],
   "source": [
    "    restart_param['device_batch'] = [1]\n",
    "    restart_param['critical_process'] = 'allow_low'\n",
    "    dpq.restart(**restart_param)\n",
    "    count = 0\n",
    "    while count < 50 and dpq.has_next():\n",
    "        get = dq.get()\n",
    "        assert len(get) == 1\n",
    "        for k, v in get[0].items():\n",
    "            assert v.datas().shape == (1, 1), print(v.datas().shape)\n",
    "            pass\n",
    "        count += 1\n",
    "        pass"
   ]
  },
  {
   "cell_type": "code",
   "execution_count": null,
   "metadata": {},
   "outputs": [],
   "source": [
    "    dpq.inject_operation({'recycle': True}, device_batch=[2])\n",
    "    while count < 60 and dpq.has_next():\n",
    "        get = dq.get()\n",
    "        assert len(get) == 1\n",
    "        for k, v in get[0].items():\n",
    "            assert v.datas().shape == (2, 1), print(v.datas().shape)\n",
    "            pass\n",
    "        count += 1\n",
    "        pass"
   ]
  },
  {
   "cell_type": "code",
   "execution_count": null,
   "metadata": {},
   "outputs": [],
   "source": [
    "    old_size = dpq.inject_operation({'recycle': False}, device_batch=[1])\n",
    "    while count < 60 + old_size and dpq.has_next():\n",
    "        get = dq.get()\n",
    "        assert len(get) == 1\n",
    "        for k, v in get[0].items():\n",
    "            assert v.datas().shape == (2, 1), print(get[0].datas().shape)\n",
    "        count += 1\n",
    "        pass\n",
    "    assert count == 60 + old_size, print(count)\n",
    "    remain_count = 100 - (50 + (10 + old_size) * 2)\n",
    "    truck_count = count\n",
    "    while (count - truck_count) < remain_count and dpq.has_next():\n",
    "        get = dq.get()\n",
    "        assert len(get) == 1\n",
    "        for k, v in get[0].items():\n",
    "            assert v.datas().shape == (1, 1), print(get[0].datas().shape)\n",
    "        count += 1\n",
    "        pass\n",
    "    assert count == old_size + remain_count + 60, print(count)"
   ]
  },
  {
   "cell_type": "code",
   "execution_count": null,
   "metadata": {},
   "outputs": [],
   "source": [
    "    dpq.stop_generation()\n",
    "    pool.join()\n",
    "    print(dpq.queue_process_ret().get())\n",
    "    # while dq.empty() is False or dpq.EpochDoneFlag.value is False:\n",
    "    #     print('get')\n",
    "    #     print(dq.get())\n",
    "    pass"
   ]
  }
 ],
 "metadata": {
  "kernelspec": {
   "display_name": "Python 3",
   "language": "python",
   "name": "python3"
  },
  "language_info": {
   "codemirror_mode": {
    "name": "ipython",
    "version": 3
   },
   "file_extension": ".py",
   "mimetype": "text/x-python",
   "name": "python",
   "nbconvert_exporter": "python",
   "pygments_lexer": "ipython3",
   "version": "3.5.6"
  }
 },
 "nbformat": 4,
 "nbformat_minor": 4
}
