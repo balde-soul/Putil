{
 "cells": [
  {
   "cell_type": "code",
   "execution_count": 1,
   "metadata": {},
   "outputs": [],
   "source": [
    "# coding=utf-8\n",
    "import sys\n",
    "import traceback\n",
    "import numpy as np\n",
    "import Putil.base.logger as plog"
   ]
  },
  {
   "cell_type": "code",
   "execution_count": 2,
   "metadata": {},
   "outputs": [],
   "source": [
    "plog.PutilLogConfig.config_log_level(stream=plog.DEBUG)\n",
    "plog.PutilLogConfig.config_handler(plog.stream_method)\n",
    "logger = plog.PutilLogConfig('TesCommonData').logger()\n",
    "logger.setLevel(plog.DEBUG)\n",
    "MainLogger = logger.getChild('Main')\n",
    "MainLogger.setLevel(plog.DEBUG)"
   ]
  },
  {
   "cell_type": "code",
   "execution_count": 3,
   "metadata": {},
   "outputs": [],
   "source": [
    "import Putil.data.common_data as pcd\n",
    "import multiprocessing\n",
    "import Putil.test.data.test_common_data_unit as tbase"
   ]
  },
  {
   "cell_type": "code",
   "execution_count": 4,
   "metadata": {},
   "outputs": [
    {
     "name": "stderr",
     "output_type": "stream",
     "text": [
      "INFO:common_data.DataPutProcess:\u001b[32mDataPutProcess\u001b[39m\n",
      "INFO:common_data.DataPutProcess:\u001b[32mrestart\u001b[39m\n",
      "INFO:common_data.Generator:\u001b[32mgenerator start\u001b[39m\n"
     ]
    }
   ],
   "source": [
    "if __name__ == '__main__':\n",
    "    manager_common_data = pcd.CommonDataManager()\n",
    "    manager_common_data.start()\n",
    "    data = manager_common_data.TestCommonData()\n",
    "\n",
    "    manager = multiprocessing.Manager()\n",
    "    pool = multiprocessing.Pool()\n",
    "\n",
    "    dpq = pcd.DataPutProcess(data, manager, pool)\n",
    "    pool.close()\n",
    "\n",
    "    dq = dpq.DataQueue()\n",
    "\n",
    "    restart_param = dict()\n",
    "\n",
    "    restart_param['critical_process'] = 'random_fill'\n",
    "    dpq.restart(**restart_param)\n",
    "\n",
    "    # pool.join()\n",
    "    # print(dpq.queue_process_ret.get())"
   ]
  },
  {
   "cell_type": "code",
   "execution_count": 5,
   "metadata": {},
   "outputs": [],
   "source": [
    "    count = 0\n",
    "    while dpq.has_next():\n",
    "        data = dq.get()\n",
    "        assert len(data) == 1\n",
    "        for k, v in data[0].items():\n",
    "            assert v.datas().shape[0] == 1\n",
    "            pass\n",
    "        count += 1\n",
    "        pass\n",
    "    assert count == 100"
   ]
  },
  {
   "cell_type": "code",
   "execution_count": 6,
   "metadata": {},
   "outputs": [
    {
     "name": "stderr",
     "output_type": "stream",
     "text": [
      "INFO:common_data.DataPutProcess:\u001b[32mrestart\u001b[39m\n"
     ]
    }
   ],
   "source": [
    "    restart_param['device_batch'] = [1]\n",
    "    restart_param['critical_process'] = 'random_fill'\n",
    "    dpq.restart(**restart_param)\n",
    "    count = 0\n",
    "    while dpq.has_next():\n",
    "        dq.get()\n",
    "        count += 1\n",
    "        pass\n",
    "    assert count == 100"
   ]
  },
  {
   "cell_type": "code",
   "execution_count": 6,
   "metadata": {},
   "outputs": [
    {
     "name": "stderr",
     "output_type": "stream",
     "text": [
      "INFO:common_data.DataPutProcess:\u001b[32mrestart\u001b[39m\n"
     ]
    }
   ],
   "source": [
    "    restart_param['device_batch'] = [1]\n",
    "    restart_param['critical_process'] = 'random_fill'\n",
    "    dpq.restart(**restart_param)\n",
    "    count = 0\n",
    "    for get in dpq:\n",
    "        dq.get()\n",
    "        count += 1\n",
    "        pass\n",
    "    assert count == 100"
   ]
  },
  {
   "cell_type": "code",
   "execution_count": 7,
   "metadata": {},
   "outputs": [
    {
     "name": "stderr",
     "output_type": "stream",
     "text": [
      "INFO:common_data.DataPutProcess:\u001b[32mrestart\u001b[39m\n",
      "INFO:common_data.DataPutProcess:\u001b[32mpause the queue\u001b[39m\n",
      "INFO:common_data.DataPutProcess:\u001b[32mcontinue the queue\u001b[39m\n"
     ]
    }
   ],
   "source": [
    "    restart_param['device_batch'] = [1]\n",
    "    restart_param['critical_process'] = 'allow_low'\n",
    "    dpq.restart(**restart_param)\n",
    "    dpq.pause_queue()\n",
    "    now_size = dpq.DataQueue().qsize()\n",
    "    count = 0\n",
    "    while dpq.paused_and_has_next():\n",
    "        dq.get()\n",
    "        count += 1\n",
    "        pass\n",
    "    assert count == now_size\n",
    "    dpq.continue_queue()\n",
    "    while dpq.has_next():\n",
    "        dq.get()\n",
    "        count += 1\n",
    "        pass\n",
    "    assert count == 100"
   ]
  },
  {
   "cell_type": "code",
   "execution_count": 8,
   "metadata": {},
   "outputs": [
    {
     "name": "stderr",
     "output_type": "stream",
     "text": [
      "INFO:common_data.DataPutProcess:\u001b[32mrestart\u001b[39m\n"
     ]
    }
   ],
   "source": [
    "    restart_param['device_batch'] = [1]\n",
    "    restart_param['critical_process'] = 'allow_low'\n",
    "    dpq.restart(**restart_param)\n",
    "    count = 0\n",
    "    while count < 50 and dpq.has_next():\n",
    "        get = dq.get()\n",
    "        assert len(get) == 1\n",
    "        for k, v in get[0].items():\n",
    "            assert v.datas().shape == (1, 1), print(v.datas().shape)\n",
    "            pass\n",
    "        count += 1\n",
    "        pass"
   ]
  },
  {
   "cell_type": "code",
   "execution_count": 9,
   "metadata": {},
   "outputs": [
    {
     "name": "stderr",
     "output_type": "stream",
     "text": [
      "INFO:common_data.DataPutProcess:\u001b[32mpause the queue\u001b[39m\n",
      "INFO:common_data.DataPutProcess:\u001b[32mcontinue the queue\u001b[39m\n"
     ]
    }
   ],
   "source": [
    "    dpq.inject_operation({'recycle': True}, device_batch=[2])\n",
    "    while count < 60 and dpq.has_next():\n",
    "        get = dq.get()\n",
    "        assert len(get) == 1\n",
    "        for k, v in get[0].items():\n",
    "            assert v.datas().shape == (2, 1), print(v.datas().shape)\n",
    "            pass\n",
    "        count += 1\n",
    "        pass"
   ]
  },
  {
   "cell_type": "code",
   "execution_count": 11,
   "metadata": {},
   "outputs": [
    {
     "name": "stderr",
     "output_type": "stream",
     "text": [
      "INFO:common_data.DataPutProcess:\u001b[32mpause the queue\u001b[39m\n",
      "INFO:common_data.DataPutProcess:\u001b[32mcontinue the queue\u001b[39m\n"
     ]
    },
    {
     "name": "stdout",
     "output_type": "stream",
     "text": [
      "75\n"
     ]
    },
    {
     "ename": "AssertionError",
     "evalue": "None",
     "output_type": "error",
     "traceback": [
      "\u001b[0;31m---------------------------------------------------------------------------\u001b[0m",
      "\u001b[0;31mAssertionError\u001b[0m                            Traceback (most recent call last)",
      "\u001b[0;32m<ipython-input-11-37c971b10475>\u001b[0m in \u001b[0;36m<module>\u001b[0;34m\u001b[0m\n\u001b[1;32m      7\u001b[0m     \u001b[0mcount\u001b[0m \u001b[0;34m+=\u001b[0m \u001b[0;36m1\u001b[0m\u001b[0;34m\u001b[0m\u001b[0m\n\u001b[1;32m      8\u001b[0m     \u001b[0;32mpass\u001b[0m\u001b[0;34m\u001b[0m\u001b[0m\n\u001b[0;32m----> 9\u001b[0;31m \u001b[0;32massert\u001b[0m \u001b[0mcount\u001b[0m \u001b[0;34m==\u001b[0m \u001b[0;36m60\u001b[0m \u001b[0;34m+\u001b[0m \u001b[0mold_size\u001b[0m\u001b[0;34m,\u001b[0m \u001b[0mprint\u001b[0m\u001b[0;34m(\u001b[0m\u001b[0mcount\u001b[0m\u001b[0;34m)\u001b[0m\u001b[0;34m\u001b[0m\u001b[0m\n\u001b[0m\u001b[1;32m     10\u001b[0m \u001b[0mremain_count\u001b[0m \u001b[0;34m=\u001b[0m \u001b[0;36m100\u001b[0m \u001b[0;34m-\u001b[0m \u001b[0;34m(\u001b[0m\u001b[0;36m50\u001b[0m \u001b[0;34m+\u001b[0m \u001b[0;34m(\u001b[0m\u001b[0;36m10\u001b[0m \u001b[0;34m+\u001b[0m \u001b[0mold_size\u001b[0m\u001b[0;34m)\u001b[0m \u001b[0;34m*\u001b[0m \u001b[0;36m2\u001b[0m\u001b[0;34m)\u001b[0m\u001b[0;34m\u001b[0m\u001b[0m\n\u001b[1;32m     11\u001b[0m \u001b[0mtruck_count\u001b[0m \u001b[0;34m=\u001b[0m \u001b[0mcount\u001b[0m\u001b[0;34m\u001b[0m\u001b[0m\n",
      "\u001b[0;31mAssertionError\u001b[0m: None"
     ]
    }
   ],
   "source": [
    "    old_size = dpq.inject_operation({'recycle': False}, device_batch=[1])\n",
    "    while count < 60 + old_size and dpq.has_next():\n",
    "        get = dq.get()\n",
    "        assert len(get) == 1\n",
    "        for k, v in get[0].items():\n",
    "            assert v.datas().shape == (2, 1), print(get[0].datas().shape)\n",
    "        count += 1\n",
    "        pass\n",
    "    assert count == 60 + old_size, print(count)\n",
    "    remain_count = 100 - (50 + (10 + old_size) * 2)\n",
    "    truck_count = count\n",
    "    while (count - truck_count) < remain_count and dpq.has_next():\n",
    "        get = dq.get()\n",
    "        assert len(get) == 1\n",
    "        for k, v in get[0].items():\n",
    "            assert v.datas().shape == (1, 1), print(get[0].datas().shape)\n",
    "        count += 1\n",
    "        pass\n",
    "    assert count == old_size + remain_count + 60, print(count)"
   ]
  },
  {
   "cell_type": "code",
   "execution_count": null,
   "metadata": {},
   "outputs": [],
   "source": [
    "    dpq.stop_generation()\n",
    "    pool.join()\n",
    "    print(dpq.queue_process_ret().get())\n",
    "    # while dq.empty() is False or dpq.EpochDoneFlag.value is False:\n",
    "    #     print('get')\n",
    "    #     print(dq.get())\n",
    "    pass"
   ]
  }
 ],
 "metadata": {
  "kernelspec": {
   "display_name": "Python 3",
   "language": "python",
   "name": "python3"
  },
  "language_info": {
   "codemirror_mode": {
    "name": "ipython",
    "version": 3
   },
   "file_extension": ".py",
   "mimetype": "text/x-python",
   "name": "python",
   "nbconvert_exporter": "python",
   "pygments_lexer": "ipython3",
   "version": "3.5.6"
  }
 },
 "nbformat": 4,
 "nbformat_minor": 4
}
